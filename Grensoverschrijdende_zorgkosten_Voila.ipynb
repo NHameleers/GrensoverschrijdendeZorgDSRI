{
 "cells": [
  {
   "cell_type": "code",
   "execution_count": 1,
   "metadata": {
    "ExecuteTime": {
     "end_time": "2019-09-06T12:21:11.650569Z",
     "start_time": "2019-09-06T12:21:09.465013Z"
    }
   },
   "outputs": [],
   "source": [
    "import ipympl\n",
    "import ipywidgets as widgets\n",
    "from IPython.display import display\n",
    "import matplotlib.pyplot as plt\n",
    "import numpy as np\n",
    "import pandas as pd\n",
    "import geopandas\n",
    "\n",
    "%matplotlib widget\n"
   ]
  },
  {
   "cell_type": "code",
   "execution_count": 2,
   "metadata": {
    "ExecuteTime": {
     "end_time": "2019-09-06T12:21:12.268791Z",
     "start_time": "2019-09-06T12:21:11.656570Z"
    }
   },
   "outputs": [],
   "source": [
    "kosten_df_zonder_geo = pd.read_csv('kosten_df.csv')\n",
    "gemeenten = geopandas.read_file('gemeentegrenzen_2019_vektis_namen.shp')\n",
    "gemeenten = gemeenten.rename(columns={'gemeentena': 'gemeentenaam'})\n"
   ]
  },
  {
   "cell_type": "code",
   "execution_count": 3,
   "metadata": {
    "ExecuteTime": {
     "end_time": "2019-09-06T12:21:12.327563Z",
     "start_time": "2019-09-06T12:21:12.273492Z"
    }
   },
   "outputs": [],
   "source": [
    "kosten_df = kosten_df_zonder_geo.merge(gemeenten, on='gemeentenaam', how='left')\n",
    "kosten_df = geopandas.GeoDataFrame(kosten_df, crs={'init': 'epsg:3857'}, geometry=kosten_df.geometry)"
   ]
  },
  {
   "cell_type": "markdown",
   "metadata": {},
   "source": [
    "# Grensoverschrijdende zorgkosten:\n",
    "## Kies populatie, jaar en uitkomstmaat"
   ]
  },
  {
   "cell_type": "code",
   "execution_count": 5,
   "metadata": {},
   "outputs": [
    {
     "data": {
      "application/vnd.jupyter.widget-view+json": {
       "model_id": "5d85d927b0d447e3b51004a31b31a874",
       "version_major": 2,
       "version_minor": 0
      },
      "text/plain": [
       "interactive(children=(Dropdown(description='populatiefilter', options=(('Hele populatie', 'hele_populatie'), (…"
      ]
     },
     "metadata": {},
     "output_type": "display_data"
    }
   ],
   "source": [
    "# see user_defined scheme\n",
    "def plot_map(populatiefilter=[('Hele populatie', 'hele_populatie'),\n",
    "                              ('0 t/m 19 jaar', '0tm19'),\n",
    "                              ('20 t/m 64 jaar', '20tm64'),\n",
    "                              ('65 jaar en ouder', '65plus')],\n",
    "             plotjaar=widgets.IntSlider(min=2011, max=2017, step=1, value=2011),\n",
    "             uitkomstmaat=[('XBC Kosten per inwoner van gemeente', 'go_kosten_per_inwoner_gemeente'),\n",
    "                           ('XBC gemeente als perc van totale ZVW gemeente', 'go_kosten_als_perc_van_totale_kosten_gemeente'),\n",
    "                           ('XCB gemeente als perc van XBC landelijk', 'go_kosten_als_perc_van_go_landelijk')]):\n",
    "    \n",
    "    subdf = kosten_df.loc[(kosten_df.jaar == plotjaar) & (kosten_df.populatie == populatiefilter), ]\n",
    "    \n",
    "    # color-scheme (mediaan, mediaan-95%, 95%-99%, 99% en hoger)\n",
    "    bins = [kosten_df[uitkomstmaat].quantile(q) for q in [0.5, 0.95, 0.99]]\n",
    "    \n",
    "    if uitkomstmaat == 'go_kosten_per_inwoner_gemeente':\n",
    "        legend_title = 'EUR'\n",
    "    else:\n",
    "        legend_title = 'Percentage (schaal 1-100)'\n",
    "        \n",
    "    ax = subdf.plot(figsize=(10, 6), legend=True, legend_kwds={'loc': 'upper left', 'title': legend_title}, column=uitkomstmaat, scheme='user_defined', classification_kwds={'bins': bins})\n",
    "    ax.set_title(f'De vier kleuren zijn 0-mediaan, mediaan-95%, 95%-99%, 99% en hoger voor de uitkomstmaat over alle jaren heen')\n",
    "    ax.set_axis_off();\n",
    "\n",
    "widgets.interact(plot_map);"
   ]
  }
 ],
 "metadata": {
  "kernelspec": {
   "display_name": "Python 3",
   "language": "python",
   "name": "python3"
  },
  "language_info": {
   "codemirror_mode": {
    "name": "ipython",
    "version": 3
   },
   "file_extension": ".py",
   "mimetype": "text/x-python",
   "name": "python",
   "nbconvert_exporter": "python",
   "pygments_lexer": "ipython3",
   "version": "3.7.3"
  },
  "toc": {
   "colors": {
    "hover_highlight": "#DAA520",
    "navigate_num": "#000000",
    "navigate_text": "#333333",
    "running_highlight": "#FF0000",
    "selected_highlight": "#FFD700",
    "sidebar_border": "#EEEEEE",
    "wrapper_background": "#FFFFFF"
   },
   "moveMenuLeft": true,
   "nav_menu": {
    "height": "67.5232px",
    "width": "251.979px"
   },
   "navigate_menu": true,
   "number_sections": true,
   "sideBar": true,
   "threshold": 4,
   "toc_cell": false,
   "toc_section_display": "block",
   "toc_window_display": false,
   "widenNotebook": false
  }
 },
 "nbformat": 4,
 "nbformat_minor": 2
}
